{
 "cells": [
  {
   "cell_type": "markdown",
   "metadata": {
    "id": "KxaQLsqY58xV"
   },
   "source": [
    "**Exercise 4 - Random Forest**\n",
    "\n",
    "---\n",
    "\n",
    "In this exercise you will implement the random forest algorithm. A random forest is a ensemble method which combines N random trees to classify an input set of points. In this assignment you will start implementing a decision tree, then modify it to be a random tree and use it on the random forest algorithm."
   ]
  },
  {
   "cell_type": "code",
   "execution_count": 1,
   "metadata": {},
   "outputs": [],
   "source": [
    "# import libraries used during this exercise\n",
    "# it may be necessary to uncomment the two following pip commands\n",
    "#!pip3 install pandas\n",
    "#!pip3 install matplotlib\n",
    "import numpy as np\n",
    "import pandas as pd\n",
    "import matplotlib.pyplot as plt\n",
    "# the core.py file contains the plottings and other pre-defined functions\n",
    "from mlrcv.core import *\n",
    "%matplotlib notebook\n",
    "%matplotlib inline"
   ]
  },
  {
   "cell_type": "markdown",
   "metadata": {},
   "source": [
    "In this exercise we will use the same toy dataset from exercise 3, with $x_1$, $x_2$ and the $y$ (*class*) values, where the point ($x_1$,$x_2$) is the observed data that should be used to predict the $y$ class value. The difference is this case relies on the number of classes, which now divides the data in 4 classes."
   ]
  },
  {
   "cell_type": "code",
   "execution_count": 2,
   "metadata": {
    "scrolled": true
   },
   "outputs": [
    {
     "data": {
      "image/png": "[encoded data removed]",
      "text/plain": [
       "<Figure size 432x288 with 1 Axes>"
      ]
     },
     "metadata": {
      "needs_background": "light"
     },
     "output_type": "display_data"
    }
   ],
   "source": [
    "# Dataset read\n",
    "df = pd.read_csv('data/random_forest.csv')\n",
    "x = df.drop(columns=['class']).values\n",
    "y = df['class'].values\n",
    "num_class = 4\n",
    "plot_model(x, y, None)"
   ]
  },
  {
   "cell_type": "code",
   "execution_count": 3,
   "metadata": {},
   "outputs": [
    {
     "data": {
      "text/html": [
       "<div>\n",
       "<style scoped>\n",
       "    .dataframe tbody tr th:only-of-type {\n",
       "        vertical-align: middle;\n",
       "    }\n",
       "\n",
       "    .dataframe tbody tr th {\n",
       "        vertical-align: top;\n",
       "    }\n",
       "\n",
       "    .dataframe thead th {\n",
       "        text-align: right;\n",
       "    }\n",
       "</style>\n",
       "<table border=\"1\" class=\"dataframe\">\n",
       "  <thead>\n",
       "    <tr style=\"text-align: right;\">\n",
       "      <th></th>\n",
       "      <th>x</th>\n",
       "      <th>y</th>\n",
       "      <th>class</th>\n",
       "    </tr>\n",
       "  </thead>\n",
       "  <tbody>\n",
       "    <tr>\n",
       "      <th>0</th>\n",
       "      <td>0.658000</td>\n",
       "      <td>1.570000</td>\n",
       "      <td>1.0</td>\n",
       "    </tr>\n",
       "    <tr>\n",
       "      <th>1</th>\n",
       "      <td>0.676000</td>\n",
       "      <td>1.185000</td>\n",
       "      <td>3.0</td>\n",
       "    </tr>\n",
       "    <tr>\n",
       "      <th>2</th>\n",
       "      <td>-0.084000</td>\n",
       "      <td>0.343000</td>\n",
       "      <td>0.0</td>\n",
       "    </tr>\n",
       "    <tr>\n",
       "      <th>3</th>\n",
       "      <td>1.019000</td>\n",
       "      <td>0.956000</td>\n",
       "      <td>1.0</td>\n",
       "    </tr>\n",
       "    <tr>\n",
       "      <th>4</th>\n",
       "      <td>0.853000</td>\n",
       "      <td>0.901000</td>\n",
       "      <td>3.0</td>\n",
       "    </tr>\n",
       "    <tr>\n",
       "      <th>...</th>\n",
       "      <td>...</td>\n",
       "      <td>...</td>\n",
       "      <td>...</td>\n",
       "    </tr>\n",
       "    <tr>\n",
       "      <th>745</th>\n",
       "      <td>0.109643</td>\n",
       "      <td>1.618177</td>\n",
       "      <td>2.0</td>\n",
       "    </tr>\n",
       "    <tr>\n",
       "      <th>746</th>\n",
       "      <td>-0.367985</td>\n",
       "      <td>1.426743</td>\n",
       "      <td>2.0</td>\n",
       "    </tr>\n",
       "    <tr>\n",
       "      <th>747</th>\n",
       "      <td>-0.106413</td>\n",
       "      <td>1.972236</td>\n",
       "      <td>2.0</td>\n",
       "    </tr>\n",
       "    <tr>\n",
       "      <th>748</th>\n",
       "      <td>0.163227</td>\n",
       "      <td>1.023377</td>\n",
       "      <td>3.0</td>\n",
       "    </tr>\n",
       "    <tr>\n",
       "      <th>749</th>\n",
       "      <td>-0.518463</td>\n",
       "      <td>1.376104</td>\n",
       "      <td>2.0</td>\n",
       "    </tr>\n",
       "  </tbody>\n",
       "</table>\n",
       "<p>750 rows × 3 columns</p>\n",
       "</div>"
      ],
      "text/plain": [
       "            x         y  class\n",
       "0    0.658000  1.570000    1.0\n",
       "1    0.676000  1.185000    3.0\n",
       "2   -0.084000  0.343000    0.0\n",
       "3    1.019000  0.956000    1.0\n",
       "4    0.853000  0.901000    3.0\n",
       "..        ...       ...    ...\n",
       "745  0.109643  1.618177    2.0\n",
       "746 -0.367985  1.426743    2.0\n",
       "747 -0.106413  1.972236    2.0\n",
       "748  0.163227  1.023377    3.0\n",
       "749 -0.518463  1.376104    2.0\n",
       "\n",
       "[750 rows x 3 columns]"
      ]
     },
     "execution_count": 3,
     "metadata": {},
     "output_type": "execute_result"
    }
   ],
   "source": [
    "df"
   ]
  },
  {
   "cell_type": "code",
   "execution_count": 4,
   "metadata": {},
   "outputs": [],
   "source": [
    "# already implemented this time :)\n",
    "x_train, y_train, x_val, y_val = split_data(x, y)"
   ]
  },
  {
   "cell_type": "markdown",
   "metadata": {},
   "source": [
    "**4.1 Decision Tree \\[5\\]**\n",
    "\n",
    "---"
   ]
  },
  {
   "cell_type": "markdown",
   "metadata": {},
   "source": [
    "Given the loaded dataset $x_1,x_2$ and $y$ class label, you should implement the class functions in the *mlrcv/decision_tree.py* file to build a decision tree that will split the data maximizing the information gain at each split. The following function should be implemented:\n",
    "\n",
    "**DecisionTree class:**\n",
    "- *fit*: split the training data over the tree nodes and leaves\n",
    "- *predict_y*: predict $y$ values from input $x$\n",
    "\n",
    "**TreeNode class:**\n",
    "- *infer_node*: predict the  $y$ class, iter over nodes and when arrive at the leaf return the class classified on this node\n",
    "- *split_node*: define the splits values and crete the left and right (binary tree) child nodes\n",
    "- *attr_gain*: receives an attribute values (column), divide it in splits and compute the information gain for each split (return the best split for that attribute)\n",
    "- *information_gain*: compute the information gain given the current samples $y$ and the possible left and right divided samples $y_l$ and $y_r$\n",
    "- *entropy*: calculate the entropy of a set of samples $y$\n"
   ]
  },
  {
   "cell_type": "code",
   "execution_count": 5,
   "metadata": {},
   "outputs": [],
   "source": [
    "from mlrcv.decision_tree import *\n",
    "\n",
    "d_tree = DecisionTree(max_degree=1, num_class=num_class)"
   ]
  },
  {
   "cell_type": "code",
   "execution_count": 9,
   "metadata": {},
   "outputs": [],
   "source": [
    "d_tree.fit(x_train, y_train)\n",
    "yy = d_tree.predict_y(y_train)"
   ]
  },
  {
   "cell_type": "code",
   "execution_count": 10,
   "metadata": {},
   "outputs": [
    {
     "data": {
      "text/plain": [
       "array([None, None, None, None, None, None, None, None, None, None, None,\n",
       "       None, None, None, None, None, None, None, None, None, None, None,\n",
       "       None, None, None, None, None, None, None, None, None, None, None,\n",
       "       None, None, None, None, None, None, None, None, None, None, None,\n",
       "       None, None, None, None, None, None, None, None, None, None, None,\n",
       "       None, None, None, None, None, None, None, None, None, None, None,\n",
       "       None, None, None, None, None, None, None, None, None, None, None,\n",
       "       None, None, None, None, None, None, None, None, None, None, None,\n",
       "       None, None, None, None, None, None, None, None, None, None, None,\n",
       "       None, None, None, None, None, None, None, None, None, None, None,\n",
       "       None, None, None, None, None, None, None, None, None, None, None,\n",
       "       None, None, None, None, None, None, None, None, None, None, None,\n",
       "       None, None, None, None, None, None, None, None, None, None, None,\n",
       "       None, None, None, None, None, None, None, None, None, None, None,\n",
       "       None, None, None, None, None, None, None, None, None, None, None,\n",
       "       None, None, None, None, None, None, None, None, None, None, None,\n",
       "       None, None, None, None, None, None, None, None, None, None, None,\n",
       "       None, None, None, None, None, None, None, None, None, None, None,\n",
       "       None, None, None, None, None, None, None, None, None, None, None,\n",
       "       None, None, None, None, None, None, None, None, None, None, None,\n",
       "       None, None, None, None, None, None, None, None, None, None, None,\n",
       "       None, None, None, None, None, None, None, None, None, None, None,\n",
       "       None, None, None, None, None, None, None, None, None, None, None,\n",
       "       None, None, None, None, None, None, None, None, None, None, None,\n",
       "       None, None, None, None, None, None, None, None, None, None, None,\n",
       "       None, None, None, None, None, None, None, None, None, None, None,\n",
       "       None, None, None, None, None, None, None, None, None, None, None,\n",
       "       None, None, None, None, None, None, None, None, None, None, None,\n",
       "       None, None, None, None, None, None, None, None, None, None, None,\n",
       "       None, None, None, None, None, None, None, None, None, None, None,\n",
       "       None, None, None, None, None, None, None, None, None, None, None,\n",
       "       None, None, None, None, None, None, None, None, None, None, None,\n",
       "       None, None, None, None, None, None, None, None, None, None, None,\n",
       "       None, None, None, None, None, None, None, None, None, None, None,\n",
       "       None, None, None, None, None, None, None, None, None, None, None,\n",
       "       None, None, None, None, None, None, None, None, None, None, None,\n",
       "       None, None, None, None, None, None, None, None, None, None, None,\n",
       "       None, None, None, None, None, None, None, None, None, None, None,\n",
       "       None, None, None, None, None, None, None, None, None, None, None,\n",
       "       None, None, None, None, None, None, None, None, None, None, None,\n",
       "       None, None, None, None, None, None, None, None, None, None, None,\n",
       "       None, None, None, None, None, None, None, None, None, None, None,\n",
       "       None, None, None, None, None, None, None, None, None, None, None,\n",
       "       None, None, None, None, None, None, None, None, None, None, None,\n",
       "       None, None, None, None, None, None, None, None, None, None, None,\n",
       "       None, None, None, None, None, None, None, None, None, None, None,\n",
       "       None, None, None, None, None, None, None, None, None, None, None,\n",
       "       None, None, None, None, None, None, None, None], dtype=object)"
      ]
     },
     "execution_count": 10,
     "metadata": {},
     "output_type": "execute_result"
    }
   ],
   "source": [
    "yy"
   ]
  },
  {
   "cell_type": "code",
   "execution_count": 7,
   "metadata": {
    "tags": []
   },
   "outputs": [
    {
     "name": "stdout",
     "output_type": "stream",
     "text": [
      "acc:  0.0\n"
     ]
    }
   ],
   "source": [
    "\n",
    "\n",
    "print('acc: ', d_tree.eval(x_val, y_val))\n",
    "\n"
   ]
  },
  {
   "cell_type": "code",
   "execution_count": 8,
   "metadata": {},
   "outputs": [
    {
     "ename": "TypeError",
     "evalue": "int() argument must be a string, a bytes-like object or a number, not 'NoneType'",
     "output_type": "error",
     "traceback": [
      "\u001b[1;31m---------------------------------------------------------------------------\u001b[0m",
      "\u001b[1;31mTypeError\u001b[0m                                 Traceback (most recent call last)",
      "Input \u001b[1;32mIn [8]\u001b[0m, in \u001b[0;36m<cell line: 1>\u001b[1;34m()\u001b[0m\n\u001b[1;32m----> 1\u001b[0m \u001b[43mplot_model\u001b[49m\u001b[43m(\u001b[49m\u001b[43mx_val\u001b[49m\u001b[43m,\u001b[49m\u001b[43m \u001b[49m\u001b[43my_val\u001b[49m\u001b[43m,\u001b[49m\u001b[43m \u001b[49m\u001b[43md_tree\u001b[49m\u001b[43m)\u001b[49m\n",
      "File \u001b[1;32m~\\Downloads\\ML_class\\Ex4\\assignment\\mlrcv\\core.py:39\u001b[0m, in \u001b[0;36mplot_model\u001b[1;34m(x, y, model)\u001b[0m\n\u001b[0;32m     37\u001b[0m \u001b[38;5;28;01melse\u001b[39;00m:\n\u001b[0;32m     38\u001b[0m     \u001b[38;5;28;01mif\u001b[39;00m grid_pred_[\u001b[38;5;241m0\u001b[39m] \u001b[38;5;241m!=\u001b[39m \u001b[38;5;241m3\u001b[39m:\n\u001b[1;32m---> 39\u001b[0m         grid_pred[\u001b[38;5;241m0\u001b[39m, \u001b[38;5;28;43mint\u001b[39;49m\u001b[43m(\u001b[49m\u001b[43mgrid_pred_\u001b[49m\u001b[43m[\u001b[49m\u001b[38;5;241;43m0\u001b[39;49m\u001b[43m]\u001b[49m\u001b[43m)\u001b[49m] \u001b[38;5;241m=\u001b[39m \u001b[38;5;241m1.\u001b[39m\n\u001b[0;32m     40\u001b[0m     \u001b[38;5;28;01melse\u001b[39;00m:\n\u001b[0;32m     41\u001b[0m         grid_pred[\u001b[38;5;241m0\u001b[39m, \u001b[38;5;241m0\u001b[39m] \u001b[38;5;241m=\u001b[39m \u001b[38;5;241m1.\u001b[39m\n",
      "\u001b[1;31mTypeError\u001b[0m: int() argument must be a string, a bytes-like object or a number, not 'NoneType'"
     ]
    }
   ],
   "source": [
    "plot_model(x_val, y_val, d_tree)"
   ]
  },
  {
   "cell_type": "markdown",
   "metadata": {},
   "source": [
    "With the current setup you should get a poor accuracy and on the plot you should see just one division between two colors. That's because we are building a tree with a the maximum degree (or depth) of 1, so the decision tree can only define two partitions on the space (split the values only once), leading to a poor division of the classes. You can change the *max_degree* attribute and take a look on the changes on the accuracy and on the plot data division."
   ]
  },
  {
   "cell_type": "markdown",
   "metadata": {},
   "source": [
    "**4.2 Random Tree \\[1\\]**\n",
    "\n",
    "---"
   ]
  },
  {
   "cell_type": "markdown",
   "metadata": {},
   "source": [
    "In this second task you should change your implemented decision tree to be a random tree. To do that you should implement the *RandomTree* and *RandomTreeNode* classes on the file *mlrcv/random_tree.py*. The structure is the same as the *DecisionTree*, the only difference is on the splits selection over each attribute, which, instead of calculate the information gain and select the split from the full splits set, you should caculate only for random subset of it.\n",
    "\n",
    "(**Hint:** basically the only difference between the decision tree and random tree is on *attr_gain* function)"
   ]
  },
  {
   "cell_type": "code",
   "execution_count": null,
   "metadata": {},
   "outputs": [],
   "source": [
    "from mlrcv.random_forest import *\n",
    "\n",
    "r_tree = RandomTree(max_degree=1, num_class=num_class)\n",
    "r_tree.fit(x_train, y_train)\n",
    "print('acc: ', r_tree.eval(x_val, y_val))\n",
    "\n",
    "plot_model(x_val, y_val, r_tree)"
   ]
  },
  {
   "cell_type": "markdown",
   "metadata": {},
   "source": [
    "As in the decision tree, with *max_degree* equals 1 you should have again a poor performance, you can again change the *max_degree* and compare it with the *DecisionTree*. The difference from before is that, since now you select random splits, everytime you fit this model, it should lead to a different accuracy, and to a different data division on the plot."
   ]
  },
  {
   "cell_type": "markdown",
   "metadata": {},
   "source": [
    "**4.3 Random Forest \\[4\\]**\n",
    "\n",
    "---"
   ]
  },
  {
   "cell_type": "markdown",
   "metadata": {},
   "source": [
    "In this last task, finally you will be implementing the random forest. The idea of the random forest is to ensemble several random trees, and use the different random trees results to build a data distribution. As before, you should implement the *fit* and *predict_y* functions from *RandomForest* class, but also in this case you should implement the *random_tree_data* function, to add even more randomness to the model. This function uses a $\\rho$ parameter between the interval $(0.,1.]$, which describes the subsamples size w.r.t. the training set size:\n",
    "- *fit*: train the model\n",
    "- *predict_y*: predict $y$ values from input $x$\n",
    "- *random_tree_data*: given the input data $x$ and $y$, generates random subsamples of it for each random tree"
   ]
  },
  {
   "cell_type": "code",
   "execution_count": null,
   "metadata": {},
   "outputs": [],
   "source": [
    "from mlrcv.random_forest import *\n",
    "\n",
    "r_forest = RandomForest(max_degree=1, num_class=num_class, trees_num=10, random_rho=1.0)\n",
    "r_forest.fit(x_train, y_train)\n",
    "print('acc: ', r_forest.eval(x_val, y_val))\n",
    "\n",
    "plot_model(x_val, y_val, r_forest)"
   ]
  },
  {
   "cell_type": "markdown",
   "metadata": {},
   "source": [
    "As before, with *max_degree=1* the accuracy should be low. However, if you only change the *random_rho* and *trees _num* parameters you may notice already an improvement on the accuracy, and, most important, on the plot. The advantage of combining random trees is that, instead of having strict decision boundaries (as in decision and random trees), you now have more smoothier boundaries, which is the combination of the random trees boundaries, leading to a better generalization.\n",
    "\n",
    "Play with the parameters and compare the *RandomForest* and the *DecisionTree* results. If you compare the *DecisionTree* and *RandomForest* using the same value for the *max_degree*, the *RandomForest* probably will have a higher performance and a better (smoothier) data division on the plots."
   ]
  }
 ],
 "metadata": {
  "colab": {
   "name": "warmup_exercises.ipynb",
   "provenance": []
  },
  "interpreter": {
   "hash": "916dbcbb3f70747c44a77c7bcd40155683ae19c65e1c03b4aa3499c5328201f1"
  },
  "kernelspec": {
   "display_name": "Python 3 (ipykernel)",
   "language": "python",
   "name": "python3"
  },
  "language_info": {
   "codemirror_mode": {
    "name": "ipython",
    "version": 3
   },
   "file_extension": ".py",
   "mimetype": "text/x-python",
   "name": "python",
   "nbconvert_exporter": "python",
   "pygments_lexer": "ipython3",
   "version": "3.9.12"
  },
  "metadata": {
   "interpreter": {
    "hash": "916dbcbb3f70747c44a77c7bcd40155683ae19c65e1c03b4aa3499c5328201f1"
   }
  }
 },
 "nbformat": 4,
 "nbformat_minor": 1
}
