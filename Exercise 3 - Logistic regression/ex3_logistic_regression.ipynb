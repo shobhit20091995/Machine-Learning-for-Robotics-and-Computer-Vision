{
 "cells": [
  {
   "cell_type": "markdown",
   "metadata": {
    "id": "KxaQLsqY58xV"
   },
   "source": [
    "**Exercise 3 - Logistic regression**\n",
    "\n",
    "---\n",
    "\n",
    "This exercise will be about logistic regression. Given a set of data points and classes your task will be to implement the functions that calculate the model $\\theta$ parameters to fit the data and infer the class for each point set."
   ]
  },
  {
   "cell_type": "code",
   "execution_count": 1,
   "metadata": {
    "vscode": {
     "languageId": "python"
    }
   },
   "outputs": [],
   "source": [
    "# import libraries used during this exercise\n",
    "# it may be necessary to uncomment the two following pip commands\n",
    "# !pip3 install pandas\n",
    "# !pip3 install matplotlib\n",
    "import pandas as pd\n",
    "import numpy as np\n",
    "from mlrcv.core import *\n",
    "%matplotlib notebook\n",
    "%matplotlib inline"
   ]
  },
  {
   "cell_type": "markdown",
   "metadata": {},
   "source": [
    "In this exercise we will use a toy dataset with $x_1$, $x_2$ and the $y$ (*class*) values, where the point ($x_1$,$x_2$) is the observed data that should be used to predict the $y$ class value."
   ]
  },
  {
   "cell_type": "code",
   "execution_count": 2,
   "metadata": {
    "scrolled": true,
    "vscode": {
     "languageId": "python"
    }
   },
   "outputs": [
    {
     "data": {
      "image/png": "[encoded data removed]",
      "text/plain": [
       "<Figure size 432x288 with 1 Axes>"
      ]
     },
     "metadata": {
      "needs_background": "light"
     },
     "output_type": "display_data"
    },
    {
     "data": {
      "text/html": [
       "<div>\n",
       "<style scoped>\n",
       "    .dataframe tbody tr th:only-of-type {\n",
       "        vertical-align: middle;\n",
       "    }\n",
       "\n",
       "    .dataframe tbody tr th {\n",
       "        vertical-align: top;\n",
       "    }\n",
       "\n",
       "    .dataframe thead th {\n",
       "        text-align: right;\n",
       "    }\n",
       "</style>\n",
       "<table border=\"1\" class=\"dataframe\">\n",
       "  <thead>\n",
       "    <tr style=\"text-align: right;\">\n",
       "      <th></th>\n",
       "      <th>x</th>\n",
       "      <th>y</th>\n",
       "      <th>class</th>\n",
       "    </tr>\n",
       "  </thead>\n",
       "  <tbody>\n",
       "    <tr>\n",
       "      <th>0</th>\n",
       "      <td>0.658</td>\n",
       "      <td>1.570</td>\n",
       "      <td>1.0</td>\n",
       "    </tr>\n",
       "    <tr>\n",
       "      <th>1</th>\n",
       "      <td>0.676</td>\n",
       "      <td>1.185</td>\n",
       "      <td>1.0</td>\n",
       "    </tr>\n",
       "    <tr>\n",
       "      <th>2</th>\n",
       "      <td>-0.084</td>\n",
       "      <td>0.343</td>\n",
       "      <td>0.0</td>\n",
       "    </tr>\n",
       "    <tr>\n",
       "      <th>3</th>\n",
       "      <td>1.019</td>\n",
       "      <td>0.956</td>\n",
       "      <td>1.0</td>\n",
       "    </tr>\n",
       "    <tr>\n",
       "      <th>4</th>\n",
       "      <td>0.853</td>\n",
       "      <td>0.901</td>\n",
       "      <td>1.0</td>\n",
       "    </tr>\n",
       "    <tr>\n",
       "      <th>...</th>\n",
       "      <td>...</td>\n",
       "      <td>...</td>\n",
       "      <td>...</td>\n",
       "    </tr>\n",
       "    <tr>\n",
       "      <th>495</th>\n",
       "      <td>-0.054</td>\n",
       "      <td>0.776</td>\n",
       "      <td>0.0</td>\n",
       "    </tr>\n",
       "    <tr>\n",
       "      <th>496</th>\n",
       "      <td>0.222</td>\n",
       "      <td>-0.574</td>\n",
       "      <td>0.0</td>\n",
       "    </tr>\n",
       "    <tr>\n",
       "      <th>497</th>\n",
       "      <td>-0.451</td>\n",
       "      <td>0.038</td>\n",
       "      <td>0.0</td>\n",
       "    </tr>\n",
       "    <tr>\n",
       "      <th>498</th>\n",
       "      <td>0.022</td>\n",
       "      <td>0.354</td>\n",
       "      <td>0.0</td>\n",
       "    </tr>\n",
       "    <tr>\n",
       "      <th>499</th>\n",
       "      <td>0.190</td>\n",
       "      <td>0.149</td>\n",
       "      <td>0.0</td>\n",
       "    </tr>\n",
       "  </tbody>\n",
       "</table>\n",
       "<p>500 rows × 3 columns</p>\n",
       "</div>"
      ],
      "text/plain": [
       "         x      y  class\n",
       "0    0.658  1.570    1.0\n",
       "1    0.676  1.185    1.0\n",
       "2   -0.084  0.343    0.0\n",
       "3    1.019  0.956    1.0\n",
       "4    0.853  0.901    1.0\n",
       "..     ...    ...    ...\n",
       "495 -0.054  0.776    0.0\n",
       "496  0.222 -0.574    0.0\n",
       "497 -0.451  0.038    0.0\n",
       "498  0.022  0.354    0.0\n",
       "499  0.190  0.149    0.0\n",
       "\n",
       "[500 rows x 3 columns]"
      ]
     },
     "execution_count": 2,
     "metadata": {},
     "output_type": "execute_result"
    }
   ],
   "source": [
    "# Dataset read\n",
    "df = pd.read_csv('data/logistic_regression.csv')\n",
    "x_bin = df.drop(columns=['class']).values\n",
    "y_bin = df['class'].values\n",
    "y_bin = y_bin[:, None]\n",
    "\n",
    "plot_data_binary(x_bin, y_bin)\n",
    "df\n"
   ]
  },
  {
   "cell_type": "markdown",
   "metadata": {},
   "source": [
    "**3.1 Logistic regression \\[5\\]**\n",
    "\n",
    "---"
   ]
  },
  {
   "cell_type": "markdown",
   "metadata": {},
   "source": [
    "Given the loaded dataset $x=(x_1,x_2)$ and $y$, you should implement the functions in the *mlrcv/logistic_regression.py* and *mlrcv/utils.py* files to calculate the model $\\theta$ parameters vector that will fit the data. The following functions should be implemented in *utils.py* file:\n",
    "- *sigmoid*: the activation function used during training\n",
    "\n",
    "Then, you should implement the functions from the class *LogisticRegression*::\n",
    "- *train_model*: train the model\n",
    "- *first_derivative*: compute the gradients (derivatives) to update the $\\theta$ parameters\n",
    "- *predict_y*\n",
    "- *eval*\n",
    "\n",
    "(**Note:** The *plot_regression_binary* function is already implemented on the *core.py* file.)"
   ]
  },
  {
   "cell_type": "code",
   "execution_count": 3,
   "metadata": {
    "vscode": {
     "languageId": "python"
    }
   },
   "outputs": [],
   "source": [
    "from mlrcv.logistic_regression import *\n",
    "from mlrcv.utils import *\n",
    "\n",
    "x_bin_train, y_bin_train, x_bin_val, y_bin_val = split_data(x_bin, y_bin)"
   ]
  },
  {
   "cell_type": "code",
   "execution_count": 4,
   "metadata": {
    "vscode": {
     "languageId": "python"
    }
   },
   "outputs": [
    {
     "name": "stdout",
     "output_type": "stream",
     "text": [
      "Model accuracy: 98.40\n"
     ]
    }
   ],
   "source": [
    "model = LogisticRegression(learning_rate=.00001, epochs=10)\n",
    "model.train_model(x_bin_train, y_bin_train)\n",
    "print('Model accuracy: %.2f' % model.eval(x_bin_val, y_bin_val))\n",
    "\n"
   ]
  },
  {
   "cell_type": "code",
   "execution_count": 5,
   "metadata": {
    "scrolled": false
   },
   "outputs": [
    {
     "data": {
      "image/png": "[encoded data removed]",
      "text/plain": [
       "<Figure size 432x288 with 1 Axes>"
      ]
     },
     "metadata": {
      "needs_background": "light"
     },
     "output_type": "display_data"
    }
   ],
   "source": [
    "plot_regression_binary(x_bin_val, y_bin_val, model)"
   ]
  },
  {
   "cell_type": "markdown",
   "metadata": {},
   "source": [
    "Probably, with the pre-defined parameters *learning_rate=0.000001* and *epochs=1* you will not achieve the best performance (something around 70%-80% of accuracy only), and you may notice that the regression decision gradients (background color) and the regression lines will not be correctly fitted, with the same color all over the background. This represents a bad fitting by the model, since it cannot distinguish which region represents which class.\n",
    "\n",
    "Since this dataset is quite \"easy\", you should be able to get around 96% of accuracy by changing the *learning_rate* and *epochs* parameters. Play around with those two parameters and check the accuracy and the plots behavior, have fun!\n",
    "\n",
    "Based on your tests with the model parameters, with which *learning_rate* and *epochs* values your model achieves a good performance (well defined background gradients and regression line)?\n",
    "\n",
    "- * learning_rate=.00001, epochs=10 gives the around 98 % accuracy*\n"
   ]
  },
  {
   "cell_type": "markdown",
   "metadata": {},
   "source": [
    "**3.2 Multi-class logistic regression (Softmax regression) \\[5\\]**\n",
    "\n",
    "---"
   ]
  },
  {
   "cell_type": "markdown",
   "metadata": {},
   "source": [
    "In some cases our data may have more than two classes, for that we can represent the logistic regression as a multi-class formulation. In this second task you should implement the class *MultiClassLogisticRegression* to fit your model in this dataset with 3 classes."
   ]
  },
  {
   "cell_type": "code",
   "execution_count": 6,
   "metadata": {
    "scrolled": true,
    "vscode": {
     "languageId": "python"
    }
   },
   "outputs": [
    {
     "data": {
      "image/png": "[encoded data removed]",
      "text/plain": [
       "<Figure size 432x288 with 1 Axes>"
      ]
     },
     "metadata": {
      "needs_background": "light"
     },
     "output_type": "display_data"
    },
    {
     "data": {
      "text/html": [
       "<div>\n",
       "<style scoped>\n",
       "    .dataframe tbody tr th:only-of-type {\n",
       "        vertical-align: middle;\n",
       "    }\n",
       "\n",
       "    .dataframe tbody tr th {\n",
       "        vertical-align: top;\n",
       "    }\n",
       "\n",
       "    .dataframe thead th {\n",
       "        text-align: right;\n",
       "    }\n",
       "</style>\n",
       "<table border=\"1\" class=\"dataframe\">\n",
       "  <thead>\n",
       "    <tr style=\"text-align: right;\">\n",
       "      <th></th>\n",
       "      <th>x</th>\n",
       "      <th>y</th>\n",
       "      <th>class</th>\n",
       "    </tr>\n",
       "  </thead>\n",
       "  <tbody>\n",
       "    <tr>\n",
       "      <th>0</th>\n",
       "      <td>0.658000</td>\n",
       "      <td>1.570000</td>\n",
       "      <td>1.0</td>\n",
       "    </tr>\n",
       "    <tr>\n",
       "      <th>1</th>\n",
       "      <td>0.676000</td>\n",
       "      <td>1.185000</td>\n",
       "      <td>1.0</td>\n",
       "    </tr>\n",
       "    <tr>\n",
       "      <th>2</th>\n",
       "      <td>-0.084000</td>\n",
       "      <td>0.343000</td>\n",
       "      <td>0.0</td>\n",
       "    </tr>\n",
       "    <tr>\n",
       "      <th>3</th>\n",
       "      <td>1.019000</td>\n",
       "      <td>0.956000</td>\n",
       "      <td>1.0</td>\n",
       "    </tr>\n",
       "    <tr>\n",
       "      <th>4</th>\n",
       "      <td>0.853000</td>\n",
       "      <td>0.901000</td>\n",
       "      <td>1.0</td>\n",
       "    </tr>\n",
       "    <tr>\n",
       "      <th>...</th>\n",
       "      <td>...</td>\n",
       "      <td>...</td>\n",
       "      <td>...</td>\n",
       "    </tr>\n",
       "    <tr>\n",
       "      <th>745</th>\n",
       "      <td>0.109643</td>\n",
       "      <td>1.618177</td>\n",
       "      <td>2.0</td>\n",
       "    </tr>\n",
       "    <tr>\n",
       "      <th>746</th>\n",
       "      <td>-0.367985</td>\n",
       "      <td>1.426743</td>\n",
       "      <td>2.0</td>\n",
       "    </tr>\n",
       "    <tr>\n",
       "      <th>747</th>\n",
       "      <td>-0.106413</td>\n",
       "      <td>1.972236</td>\n",
       "      <td>2.0</td>\n",
       "    </tr>\n",
       "    <tr>\n",
       "      <th>748</th>\n",
       "      <td>0.163227</td>\n",
       "      <td>1.023377</td>\n",
       "      <td>2.0</td>\n",
       "    </tr>\n",
       "    <tr>\n",
       "      <th>749</th>\n",
       "      <td>-0.518463</td>\n",
       "      <td>1.376104</td>\n",
       "      <td>2.0</td>\n",
       "    </tr>\n",
       "  </tbody>\n",
       "</table>\n",
       "<p>750 rows × 3 columns</p>\n",
       "</div>"
      ],
      "text/plain": [
       "            x         y  class\n",
       "0    0.658000  1.570000    1.0\n",
       "1    0.676000  1.185000    1.0\n",
       "2   -0.084000  0.343000    0.0\n",
       "3    1.019000  0.956000    1.0\n",
       "4    0.853000  0.901000    1.0\n",
       "..        ...       ...    ...\n",
       "745  0.109643  1.618177    2.0\n",
       "746 -0.367985  1.426743    2.0\n",
       "747 -0.106413  1.972236    2.0\n",
       "748  0.163227  1.023377    2.0\n",
       "749 -0.518463  1.376104    2.0\n",
       "\n",
       "[750 rows x 3 columns]"
      ]
     },
     "execution_count": 6,
     "metadata": {},
     "output_type": "execute_result"
    }
   ],
   "source": [
    "# Dataset read\n",
    "df = pd.read_csv('data/logistic_regression_multi_class.csv')\n",
    "x_multi = df.drop(columns=['class']).values\n",
    "y_multi = pd.get_dummies(df['class']).values\n",
    "\n",
    "num_class = 3\n",
    "\n",
    "plot_data_multi_class(x_multi, y_multi)\n",
    "\n",
    "# implemented, already split our data here\n",
    "x_multi_train, y_multi_train, x_multi_val, y_multi_val = split_data(x_multi, y_multi)\n",
    "df"
   ]
  },
  {
   "cell_type": "markdown",
   "metadata": {},
   "source": [
    "As in the previous tasks, you should implement the four functions inside the *MultiClassLogisticRegression* class, but now for the multi-class case:\n",
    "- *train_model*: train the model\n",
    "- *first_derivative*: compute the gradients (derivatives) to update the $\\theta$ parameters\n",
    "- *predict_y*\n",
    "- *eval*\n",
    "\n",
    "And in this case, implement the *softmax* function as well. (**Note:** The *plot_regression_multi_class* function is already implemented.)"
   ]
  },
  {
   "cell_type": "code",
   "execution_count": 7,
   "metadata": {
    "scrolled": true,
    "vscode": {
     "languageId": "python"
    }
   },
   "outputs": [
    {
     "name": "stdout",
     "output_type": "stream",
     "text": [
      "Model acc:  96.26666666666667\n"
     ]
    }
   ],
   "source": [
    "from mlrcv.logistic_regression import *\n",
    "from mlrcv.utils import *\n",
    "\n",
    "model = MultiClassLogisticRegression(learning_rate=.01, epochs=1000)\n",
    "model.train_model(x_multi_train, y_multi_train)\n",
    "print('Model acc: ', model.eval(x_multi_val, y_multi_val))\n",
    "\n"
   ]
  },
  {
   "cell_type": "code",
   "execution_count": 8,
   "metadata": {},
   "outputs": [],
   "source": [
    "# i am facing some issue with the predefined code for visualization\n",
    "# plot_regression_multi_class(x_multi_val, y_multi_val, model) "
   ]
  },
  {
   "cell_type": "markdown",
   "metadata": {},
   "source": [
    "As in the logistic regression case, with the pre-defined parameters *learning_rate=0.000001* and *epochs=1* your model should have a poor performance. In that case the background plot will be gray, since the model cannot properly define the boundary regions. Again, in this task you should change them to achieve around 96% accuracy with your model, and see a well defined decision regions for each class. Play again with the parameters and check the changes on the accuracy and plots.\n",
    "\n",
    "Based on your tests with the model parameters, with which *learning_rate* and *epochs* values you model achieves a good performance (well defined background gradients and regression lines)?\n",
    "\n",
    "- *learning_rate=.01, epochs=1000 givess the best result around 96% accuracy*"
   ]
  },
  {
   "cell_type": "markdown",
   "metadata": {},
   "source": [
    "**Assignment Submission**\n",
    "\n",
    "---"
   ]
  },
  {
   "cell_type": "markdown",
   "metadata": {},
   "source": [
    "You should zip and submit the ```ex3_logistic_regression.ipynb``` file together with all the ```.py``` files inside the ```mlrcv/``` directory.\n",
    "\n",
    "You can automatically generate the submission file using the provided ```zip_submission.sh``` script by running:\n",
    "\n",
    "```\n",
    "bash zip_submission.sh\n",
    "```\n",
    "\n",
    "This will zip the necessary files for your submission and generate the ```ex3_mlrcv_submission.zip``` file to be submit via ecampus."
   ]
  }
 ],
 "metadata": {
  "colab": {
   "name": "warmup_exercises.ipynb",
   "provenance": []
  },
  "kernelspec": {
   "display_name": "Python 3 (ipykernel)",
   "language": "python",
   "name": "python3"
  },
  "language_info": {
   "codemirror_mode": {
    "name": "ipython",
    "version": 3
   },
   "file_extension": ".py",
   "mimetype": "text/x-python",
   "name": "python",
   "nbconvert_exporter": "python",
   "pygments_lexer": "ipython3",
   "version": "3.9.12"
  }
 },
 "nbformat": 4,
 "nbformat_minor": 1
}
